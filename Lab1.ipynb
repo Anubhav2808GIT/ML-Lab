{
  "nbformat": 4,
  "nbformat_minor": 0,
  "metadata": {
    "colab": {
      "provenance": []
    },
    "kernelspec": {
      "name": "python3",
      "display_name": "Python 3"
    },
    "language_info": {
      "name": "python"
    }
  },
  "cells": [
    {
      "cell_type": "code",
      "execution_count": null,
      "metadata": {
        "id": "91i-uv1_IlLR"
      },
      "outputs": [],
      "source": [
        "import numpy as np"
      ]
    },
    {
      "cell_type": "code",
      "source": [
        "arr = np.array([[1,2,3],[4,2,5]])\n",
        "print(\"Array is of type : \", type(arr))\n",
        "print(\"No. of dimentiond : \", arr.ndim)\n",
        "print(\"Shape of array : \", arr.shape)\n",
        "print(\"Size of araay : \", arr.size)\n",
        "print(\"Array stores elements of type : \", arr.dtype)"
      ],
      "metadata": {
        "colab": {
          "base_uri": "https://localhost:8080/"
        },
        "id": "VGDp6_-BJscq",
        "outputId": "09e095f0-24b3-45e9-b1a0-4a51d8e422a8"
      },
      "execution_count": null,
      "outputs": [
        {
          "output_type": "stream",
          "name": "stdout",
          "text": [
            "Array is of type :  <class 'numpy.ndarray'>\n",
            "No. of dimentiond :  2\n",
            "Shape of array :  (2, 3)\n",
            "Size of araay :  6\n",
            "Array stores elements of type :  int64\n"
          ]
        }
      ]
    },
    {
      "cell_type": "code",
      "source": [
        "a = np.array([[1,2,3],[4,5,6]], dtype = 'float')\n",
        "print(\"A is \",a)\n",
        "b = np.array([1,3,2])\n",
        "print(\"B is \",b)\n",
        "c = np.zeros((3,4))\n",
        "print(\"C is \",c)\n"
      ],
      "metadata": {
        "colab": {
          "base_uri": "https://localhost:8080/"
        },
        "id": "hQOzvuK9K6n9",
        "outputId": "1706bd37-a06c-462e-a927-c6e03f3b2dbd"
      },
      "execution_count": null,
      "outputs": [
        {
          "output_type": "stream",
          "name": "stdout",
          "text": [
            "A is  [[1. 2. 3.]\n",
            " [4. 5. 6.]]\n",
            "B is  [1 3 2]\n",
            "C is  [[0. 0. 0. 0.]\n",
            " [0. 0. 0. 0.]\n",
            " [0. 0. 0. 0.]]\n"
          ]
        }
      ]
    },
    {
      "cell_type": "code",
      "source": [
        "d = np.random.randint(10,20,10)"
      ],
      "metadata": {
        "id": "ijKdu_LyMhge"
      },
      "execution_count": null,
      "outputs": []
    },
    {
      "cell_type": "code",
      "source": [
        "print(d)"
      ],
      "metadata": {
        "colab": {
          "base_uri": "https://localhost:8080/"
        },
        "id": "45XqKdxEOnFO",
        "outputId": "fcd17b4d-c9ff-4411-b33e-3d509fd26f2e"
      },
      "execution_count": null,
      "outputs": [
        {
          "output_type": "stream",
          "name": "stdout",
          "text": [
            "[18 13 10 12 16 16 14 11 15 12]\n"
          ]
        }
      ]
    },
    {
      "cell_type": "code",
      "source": [
        "e = np.random.randint(10,20,15)\n",
        "print(e)"
      ],
      "metadata": {
        "colab": {
          "base_uri": "https://localhost:8080/"
        },
        "id": "Luw6HMODOpYP",
        "outputId": "7d1006bb-d47c-47ad-b6c2-fc9900b91d90"
      },
      "execution_count": null,
      "outputs": [
        {
          "output_type": "stream",
          "name": "stdout",
          "text": [
            "[15 11 18 19 12 14 14 15 17 11 18 11 15 16 12]\n"
          ]
        }
      ]
    },
    {
      "cell_type": "code",
      "source": [
        "f = np.array([1,3,2])\n",
        "print(f*5)"
      ],
      "metadata": {
        "colab": {
          "base_uri": "https://localhost:8080/"
        },
        "id": "AA0l1bzcO-Fu",
        "outputId": "3d3daba1-c5bf-4247-f19f-2a00877b1345"
      },
      "execution_count": null,
      "outputs": [
        {
          "output_type": "stream",
          "name": "stdout",
          "text": [
            "[ 5 15 10]\n"
          ]
        }
      ]
    },
    {
      "cell_type": "code",
      "source": [
        "print(d*5)"
      ],
      "metadata": {
        "colab": {
          "base_uri": "https://localhost:8080/"
        },
        "id": "7UJPGfyVPLSO",
        "outputId": "8ffe06a0-5f98-48b5-aaef-5275f8913c5b"
      },
      "execution_count": null,
      "outputs": [
        {
          "output_type": "stream",
          "name": "stdout",
          "text": [
            "[90 65 50 60 80 80 70 55 75 60]\n"
          ]
        }
      ]
    }
  ]
}