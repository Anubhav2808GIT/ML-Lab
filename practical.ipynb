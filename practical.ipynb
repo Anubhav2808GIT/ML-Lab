{
  "nbformat": 4,
  "nbformat_minor": 0,
  "metadata": {
    "colab": {
      "provenance": []
    },
    "kernelspec": {
      "name": "python3",
      "display_name": "Python 3"
    },
    "language_info": {
      "name": "python"
    }
  },
  "cells": [
    {
      "cell_type": "code",
      "execution_count": null,
      "metadata": {
        "id": "ArWN2gHb2BMm"
      },
      "outputs": [],
      "source": [
        "import numpy as np\n",
        "import matplotlib.pyplot as plt\n",
        "import pandas as pd\n",
        "import sys"
      ]
    },
    {
      "cell_type": "code",
      "source": [
        "from sklearn.cluster import KMeans"
      ],
      "metadata": {
        "id": "_pfArgJy9j29"
      },
      "execution_count": null,
      "outputs": []
    },
    {
      "cell_type": "code",
      "source": [
        "x1 = np.array([2,4,6,3,31,13,15,16,38,35,14,21,23,25,30])\n",
        "n = 15\n",
        "k = 3"
      ],
      "metadata": {
        "id": "QKpS70hl9j9P"
      },
      "execution_count": null,
      "outputs": []
    },
    {
      "cell_type": "code",
      "source": [
        "c1 = 6\n",
        "c2 = 16\n",
        "c3 = 30"
      ],
      "metadata": {
        "id": "5JnvVvVh9l1M"
      },
      "execution_count": null,
      "outputs": []
    },
    {
      "cell_type": "code",
      "source": [
        "d1 =  []*15\n",
        "d2 = []*15\n",
        "d3 = []*15\n",
        "p=0\n",
        "for i in range(0,15):\n",
        "  p += ((x1[i]-c1)**2)\n",
        "  q =(p**(1/2))\n",
        "  d1.append(q)\n",
        "\n",
        "p=0\n",
        "for i in range(0,15):\n",
        "  p += ((x1[i]-c2)**2)\n",
        "  q =(p**(1/2))\n",
        "  d2.append(q)\n",
        "\n",
        "p=0\n",
        "for i in range(0,15):\n",
        "  p += ((x1[i]-c3)**2)\n",
        "  q =(p**(1/2))\n",
        "  d3.append(q)"
      ],
      "metadata": {
        "id": "KFLw4SBC9l-P"
      },
      "execution_count": null,
      "outputs": []
    },
    {
      "cell_type": "code",
      "source": [
        "print(d1)\n",
        "print(d2)\n",
        "print(d3)"
      ],
      "metadata": {
        "colab": {
          "base_uri": "https://localhost:8080/"
        },
        "id": "ZFZzXv7O9mFM",
        "outputId": "9eaa154b-f5ad-4467-eed3-8fb85571d891"
      },
      "execution_count": null,
      "outputs": [
        {
          "output_type": "stream",
          "name": "stdout",
          "text": [
            "[4.0, 4.47213595499958, 4.47213595499958, 5.385164807134504, 25.573423705088842, 26.514147167125703, 28.0, 29.732137494637012, 43.68065933568311, 52.43090691567332, 53.03772242470448, 55.11805511808268, 57.68015256567895, 60.728905802755904, 65.29931086925804]\n",
            "[14.0, 18.439088914585774, 20.97617696340303, 24.677925358506133, 28.879058156387302, 29.03446228191595, 29.0516780926679, 29.0516780926679, 36.4417343165772, 41.09744517606904, 41.14608122288197, 41.44876355212541, 42.035699113967404, 42.988370520409354, 45.21061822182926]\n",
            "[28.0, 38.2099463490856, 45.12205669071391, 52.583267300539625, 52.592775169218825, 55.27205442174191, 57.271284253105414, 58.957611891934704, 59.49789912257407, 59.70762095411272, 61.814237842102365, 62.465990746965666, 62.85698051927089, 63.05553108173778, 63.05553108173778]\n"
          ]
        }
      ]
    },
    {
      "cell_type": "code",
      "source": [
        "g1 = []*15\n",
        "g2 = []*15\n",
        "g3 = []*15\n",
        "n = 0\n",
        "m = 0\n",
        "k = 0\n",
        "\n",
        "for i in  range(0,15):\n",
        "  if(d1[i]<d2[i] and d1[i]<d3[i]):\n",
        "     g1.append(1)\n",
        "     n += 1\n",
        "  else:\n",
        "     g1.append(0)\n",
        "\n",
        "for i in  range(0,15):\n",
        "  if(d2[i]<d1[i] and d2[i]<d3[i]):\n",
        "     g2.append(1)\n",
        "     m+=1\n",
        "  else:\n",
        "     g2.append(0)\n",
        "\n",
        "for i in  range(0,15):\n",
        "  if(d3[i]<d1[i] and d3[i]<d2[i]):\n",
        "     g3.append(1)\n",
        "     k+=1\n",
        "  else:\n",
        "     g3.append(0)\n"
      ],
      "metadata": {
        "id": "g8JCcGeJ9mK8"
      },
      "execution_count": null,
      "outputs": []
    },
    {
      "cell_type": "code",
      "source": [
        "print(g1)\n",
        "print(g2)\n",
        "print(g3)"
      ],
      "metadata": {
        "colab": {
          "base_uri": "https://localhost:8080/"
        },
        "id": "_9pB7uOu9mQs",
        "outputId": "5e99993c-a134-4888-cc3e-56559043a9c2"
      },
      "execution_count": null,
      "outputs": [
        {
          "output_type": "stream",
          "name": "stdout",
          "text": [
            "[1, 1, 1, 1, 1, 1, 1, 0, 0, 0, 0, 0, 0, 0, 0]\n",
            "[0, 0, 0, 0, 0, 0, 0, 1, 1, 1, 1, 1, 1, 1, 1]\n",
            "[0, 0, 0, 0, 0, 0, 0, 0, 0, 0, 0, 0, 0, 0, 0]\n"
          ]
        }
      ]
    },
    {
      "cell_type": "code",
      "source": [
        "if(n==0):\n",
        "  n=1\n",
        "if(k==0):\n",
        "  k=1\n",
        "if(m==0):\n",
        "  m=1\n"
      ],
      "metadata": {
        "id": "9jDx2V8HsZTq"
      },
      "execution_count": null,
      "outputs": []
    },
    {
      "cell_type": "code",
      "source": [
        "x = 0\n",
        "y = 0\n",
        "z = 0\n",
        "for i in range(0,15):\n",
        "  if(g1[i]==1):\n",
        "    x += x1[i]\n",
        "  elif(g2[i]==1):\n",
        "    y += x1[i]\n",
        "  elif(g3[i]==1):\n",
        "    z += x1[i]\n",
        "\n",
        "c11 = x/n\n",
        "c21 = y/m\n",
        "c31 = z/k"
      ],
      "metadata": {
        "id": "kZF_Z3OEth7A"
      },
      "execution_count": null,
      "outputs": []
    },
    {
      "cell_type": "code",
      "source": [
        "print(c11,c21,c31)"
      ],
      "metadata": {
        "colab": {
          "base_uri": "https://localhost:8080/"
        },
        "id": "UhbsoLijt9v5",
        "outputId": "9b97a1d4-9dcc-4c40-e304-6c5df3c6e452"
      },
      "execution_count": null,
      "outputs": [
        {
          "output_type": "stream",
          "name": "stdout",
          "text": [
            "10.571428571428571 25.25 0.0\n"
          ]
        }
      ]
    },
    {
      "cell_type": "code",
      "source": [
        "def cluster(c1,c2,c3):\n",
        "  x1 = np.array([2,4,6,3,31,13,15,16,38,35,14,21,23,25,30])\n",
        "  d1 = []*15\n",
        "  d2 = []*15\n",
        "  d3 = []*15\n",
        "  \n",
        "  p=0\n",
        "  for i in range(0,15):\n",
        "    p += ((x1[i]-c1)**2)\n",
        "    q =(p**(1/2))\n",
        "    d1.append(q)\n",
        "\n",
        "  p=0\n",
        "  for i in range(0,15):\n",
        "    p += ((x1[i]-c2)**2)\n",
        "    q =(p**(1/2))\n",
        "    d2.append(q)\n",
        "\n",
        "  p=0\n",
        "  for i in range(0,15):\n",
        "    p += ((x1[i]-c3)**2)\n",
        "    q =(p**(1/2))\n",
        "    d3.append(q)\n",
        "\n",
        "  g1 = []*15\n",
        "  g2 = []*15\n",
        "  g3 = []*15\n",
        "  n = 0\n",
        "  m = 0\n",
        "  k = 0\n",
        "\n",
        "  for i in  range(0,15):\n",
        "    if(d1[i]<d2[i] and d1[i]<d3[i]):\n",
        "       g1.append(1)\n",
        "       n+=1\n",
        "    else:\n",
        "       g1.append(0)\n",
        "\n",
        "  for i in  range(0,15):\n",
        "    if(d2[i]<d1[i] and d2[i]<d3[i]):\n",
        "       g2.append(1)\n",
        "       m+=1\n",
        "    else:\n",
        "       g2.append(0)\n",
        "\n",
        "  for i in  range(0,15):\n",
        "    if(d3[i]<d1[i] and d3[i]<d2[i]):\n",
        "       g3.append(1)\n",
        "       k+=1\n",
        "    else:\n",
        "       g3.append(0)\n",
        "  \n",
        "  if(n==0):\n",
        "    n=1\n",
        "  if(m==0):\n",
        "    m=1\n",
        "  if(k==0):\n",
        "    k=1\n",
        "\n",
        "  x = 0\n",
        "  y = 0\n",
        "  z = 0\n",
        "  for i in range(0,15):\n",
        "    if(g1[i]==1):\n",
        "      x += x1[i]\n",
        "    elif(g2[i]==1):\n",
        "      y += x1[i]\n",
        "    elif(g3[i]==1):\n",
        "      z += x1[i]\n",
        "\n",
        "  c11 = x/n\n",
        "  c21 = y/m\n",
        "  c31 = z/k\n",
        "\n",
        "  if(c1 == c11 and c2==c21 and c3==c31):\n",
        "    return c11,c21,c31\n",
        "  else:\n",
        "    cluster(c11,c21,c31)\n",
        " "
      ],
      "metadata": {
        "id": "k6Sksogev5yg"
      },
      "execution_count": null,
      "outputs": []
    }
  ]
}