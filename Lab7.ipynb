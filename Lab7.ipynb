{
  "nbformat": 4,
  "nbformat_minor": 0,
  "metadata": {
    "colab": {
      "provenance": []
    },
    "kernelspec": {
      "name": "python3",
      "display_name": "Python 3"
    },
    "language_info": {
      "name": "python"
    }
  },
  "cells": [
    {
      "cell_type": "code",
      "execution_count": null,
      "metadata": {
        "id": "WCmXKof80j4_"
      },
      "outputs": [],
      "source": [
        "import pandas as pd\n",
        "import numpy as np\n",
        "import matplotlib.pyplot as plt"
      ]
    },
    {
      "cell_type": "code",
      "source": [
        "experience= np.array([2.4,5.0,1.5,3.8,8.7,3.6,1.2,8.1,2.5,5,1.6,1.6,2.4,3.9,5.4])\n",
        "salary = np.array([2.1,4.7,1.7,3.6,8.7,3.2,1.0,8.0,2.4,6,1.1,1.3,2.4,3.9,4.8])\n",
        "n = np.size(experience)"
      ],
      "metadata": {
        "id": "SQNfmqcL0-9x"
      },
      "execution_count": null,
      "outputs": []
    },
    {
      "cell_type": "code",
      "source": [
        "plt.scatter(experience,salary, color = 'red')\n",
        "plt.xlabel(\"Experience\")\n",
        "plt.ylabel(\"Salary\")\n",
        "plt.show()"
      ],
      "metadata": {
        "colab": {
          "base_uri": "https://localhost:8080/",
          "height": 281
        },
        "id": "VzC7tFWT_Et3",
        "outputId": "5ae890fc-a1ad-46b4-f08f-1fbd530a03c8"
      },
      "execution_count": null,
      "outputs": [
        {
          "output_type": "display_data",
          "data": {
            "text/plain": [
              "<Figure size 432x288 with 1 Axes>"
            ],
            "image/png": "[encoded data removed]"
          },
          "metadata": {
            "needs_background": "light"
          }
        }
      ]
    },
    {
      "cell_type": "code",
      "source": [
        "from sklearn.linear_model import LinearRegression\n",
        "from sklearn.metrics import mean_squared_error\n",
        "experience = experience.reshape(-1,1)\n",
        "model = LinearRegression()\n",
        "model.fit(experience,salary)\n",
        "salary_pred = model.predict(experience)\n",
        "Mse = mean_squared_error(salary, salary_pred)\n",
        "print('slop', model.coef_)\n",
        "print(\"Intercept\", model.intercept_)\n",
        "print(\"MSE\", Mse)\n"
      ],
      "metadata": {
        "colab": {
          "base_uri": "https://localhost:8080/"
        },
        "id": "0fgIZcG65A4e",
        "outputId": "751b1c2e-81d2-44e4-fe18-7b4e59bef986"
      },
      "execution_count": null,
      "outputs": [
        {
          "output_type": "stream",
          "name": "stdout",
          "text": [
            "slop [1.02474643]\n",
            "Intercept -0.21354150071690547\n",
            "MSE 0.12785817711928915\n"
          ]
        }
      ]
    },
    {
      "cell_type": "code",
      "source": [
        "from math import sqrt\n",
        "rmse = sqrt(Mse)\n",
        "print(\"RMSE\", rmse)\n"
      ],
      "metadata": {
        "id": "54EefLnl5A-e",
        "colab": {
          "base_uri": "https://localhost:8080/"
        },
        "outputId": "4a006edd-f2ac-4059-8cab-6a7bb974a022"
      },
      "execution_count": null,
      "outputs": [
        {
          "output_type": "stream",
          "name": "stdout",
          "text": [
            "RMSE 0.35757261796632184\n"
          ]
        }
      ]
    },
    {
      "cell_type": "code",
      "source": [
        "area = np.array([2600,3000,3200,4000,7500])\n",
        "price = np.array([550000,565000,610000,680000,725000])"
      ],
      "metadata": {
        "id": "N4puGtPwBQoI"
      },
      "execution_count": null,
      "outputs": []
    },
    {
      "cell_type": "code",
      "source": [
        "area = area.reshape(-1,1)\n",
        "model = LinearRegression()\n",
        "model\n"
      ],
      "metadata": {
        "id": "t9kAZHsp5BDG",
        "colab": {
          "base_uri": "https://localhost:8080/"
        },
        "outputId": "70538b59-da1c-4f00-ae2f-d7cb7da625ee"
      },
      "execution_count": null,
      "outputs": [
        {
          "output_type": "execute_result",
          "data": {
            "text/plain": [
              "LinearRegression()"
            ]
          },
          "metadata": {},
          "execution_count": 25
        }
      ]
    },
    {
      "cell_type": "code",
      "source": [
        "model.fit(area,price)"
      ],
      "metadata": {
        "colab": {
          "base_uri": "https://localhost:8080/"
        },
        "id": "j7udt8ZUDK1h",
        "outputId": "cefa0396-cb6d-4a2d-cca7-55b089e3be76"
      },
      "execution_count": null,
      "outputs": [
        {
          "output_type": "execute_result",
          "data": {
            "text/plain": [
              "LinearRegression()"
            ]
          },
          "metadata": {},
          "execution_count": 26
        }
      ]
    },
    {
      "cell_type": "code",
      "source": [
        "price_pred = model.predict(area)\n",
        "mse = mean_squared_error(price,price_pred)\n",
        "rmse = sqrt(mse)\n",
        "rmse"
      ],
      "metadata": {
        "colab": {
          "base_uri": "https://localhost:8080/"
        },
        "id": "Ji7MX1hSDLB4",
        "outputId": "81c152b2-bdae-479a-b4e6-ce98d1c93e74"
      },
      "execution_count": null,
      "outputs": [
        {
          "output_type": "execute_result",
          "data": {
            "text/plain": [
              "31456.987565568885"
            ]
          },
          "metadata": {},
          "execution_count": 27
        }
      ]
    },
    {
      "cell_type": "code",
      "source": [
        "mse"
      ],
      "metadata": {
        "colab": {
          "base_uri": "https://localhost:8080/"
        },
        "id": "YJwhmmWpDLDL",
        "outputId": "22562869-a935-4581-e9d3-be16ffe01321"
      },
      "execution_count": null,
      "outputs": [
        {
          "output_type": "execute_result",
          "data": {
            "text/plain": [
              "989542066.7003555"
            ]
          },
          "metadata": {},
          "execution_count": 28
        }
      ]
    },
    {
      "cell_type": "code",
      "source": [
        "model.coef_"
      ],
      "metadata": {
        "id": "8o8X--WD5BIP",
        "colab": {
          "base_uri": "https://localhost:8080/"
        },
        "outputId": "38d2e0f9-a09d-4af2-c26c-f0be466b1252"
      },
      "execution_count": null,
      "outputs": [
        {
          "output_type": "execute_result",
          "data": {
            "text/plain": [
              "array([33.26806468])"
            ]
          },
          "metadata": {},
          "execution_count": 29
        }
      ]
    },
    {
      "cell_type": "code",
      "source": [
        "internal = np.array([15,23,18,23,24,22,22,19,19,16,24,11,24,16,23])\n",
        "external = np.array([49,63,58,60,58,61,60,63,60,52,62,30,59,49,68])"
      ],
      "metadata": {
        "id": "lZiNWDU1FlR8"
      },
      "execution_count": null,
      "outputs": []
    },
    {
      "cell_type": "code",
      "source": [
        "internal = internal.reshape(-1,1)\n",
        "model = LinearRegression()\n",
        "model"
      ],
      "metadata": {
        "colab": {
          "base_uri": "https://localhost:8080/"
        },
        "id": "eD7M7pOTFlXo",
        "outputId": "644017f4-89ba-4d47-ba62-0b130e517764"
      },
      "execution_count": null,
      "outputs": [
        {
          "output_type": "execute_result",
          "data": {
            "text/plain": [
              "LinearRegression()"
            ]
          },
          "metadata": {},
          "execution_count": 31
        }
      ]
    },
    {
      "cell_type": "code",
      "source": [
        "model.fit(internal,external)\n"
      ],
      "metadata": {
        "colab": {
          "base_uri": "https://localhost:8080/"
        },
        "id": "HvorMZskFldF",
        "outputId": "e3c747fd-4a51-462b-e8ec-a5043fa6f5ae"
      },
      "execution_count": null,
      "outputs": [
        {
          "output_type": "execute_result",
          "data": {
            "text/plain": [
              "LinearRegression()"
            ]
          },
          "metadata": {},
          "execution_count": 32
        }
      ]
    },
    {
      "cell_type": "code",
      "source": [
        "x = np.var(experience)\n",
        "print(x)"
      ],
      "metadata": {
        "colab": {
          "base_uri": "https://localhost:8080/"
        },
        "id": "FZQQdHtv7iiw",
        "outputId": "5c585527-2068-4349-e421-677e6dfc5a19"
      },
      "execution_count": null,
      "outputs": [
        {
          "output_type": "stream",
          "name": "stdout",
          "text": [
            "5.0215999999999985\n"
          ]
        }
      ]
    },
    {
      "cell_type": "code",
      "source": [
        "y = np.cov(experience,salary)\n",
        "print(y)"
      ],
      "metadata": {
        "colab": {
          "base_uri": "https://localhost:8080/"
        },
        "id": "PcVMvBDo-Nwx",
        "outputId": "e9c36b32-da5f-4497-d235-3f7e0343de43"
      },
      "execution_count": null,
      "outputs": [
        {
          "output_type": "stream",
          "name": "stdout",
          "text": [
            "[[5.38028571 5.51342857]\n",
            " [5.51342857 5.78685714]]\n"
          ]
        }
      ]
    },
    {
      "cell_type": "code",
      "source": [
        "m = y/x\n",
        "print(m)"
      ],
      "metadata": {
        "colab": {
          "base_uri": "https://localhost:8080/"
        },
        "id": "i2vG-ZYHBYHI",
        "outputId": "d22fecb1-8926-41f7-ede2-0ca372102b9d"
      },
      "execution_count": null,
      "outputs": [
        {
          "output_type": "stream",
          "name": "stdout",
          "text": [
            "[[1.07142857 1.0979426 ]\n",
            " [1.0979426  1.15239309]]\n"
          ]
        }
      ]
    },
    {
      "cell_type": "code",
      "source": [
        "a = experience.mean()\n",
        "b = salary.mean()\n",
        "print(a)\n",
        "print(b)"
      ],
      "metadata": {
        "colab": {
          "base_uri": "https://localhost:8080/"
        },
        "id": "b2gsccvcCBlh",
        "outputId": "95f269d0-6477-4f07-f4de-ef84d443c698"
      },
      "execution_count": null,
      "outputs": [
        {
          "output_type": "stream",
          "name": "stdout",
          "text": [
            "3.78\n",
            "3.6599999999999993\n"
          ]
        }
      ]
    },
    {
      "cell_type": "code",
      "source": [
        "u = 0\n",
        "l = 0\n",
        "for i in range(0,15):\n",
        "  u += ((experience[i]-a)*(salary[i]-b))\n",
        "  l += (experience[i]-a)\n",
        "\n",
        "ans = u/l\n",
        "print(ans)"
      ],
      "metadata": {
        "colab": {
          "base_uri": "https://localhost:8080/"
        },
        "id": "O7IStSpQDiyg",
        "outputId": "903375a7-b151-486b-86a7-1d30711e65ab"
      },
      "execution_count": null,
      "outputs": [
        {
          "output_type": "stream",
          "name": "stdout",
          "text": [
            "3.476238480374739e+16\n"
          ]
        }
      ]
    },
    {
      "cell_type": "code",
      "source": [
        "c = b - (m*a)\n",
        "print(c)"
      ],
      "metadata": {
        "colab": {
          "base_uri": "https://localhost:8080/"
        },
        "id": "GHTIxLCcFly4",
        "outputId": "2bed8557-df81-4f44-937d-6af56e5bf36e"
      },
      "execution_count": null,
      "outputs": [
        {
          "output_type": "stream",
          "name": "stdout",
          "text": [
            "[[-0.39       -0.49022304]\n",
            " [-0.49022304 -0.69604588]]\n"
          ]
        }
      ]
    },
    {
      "cell_type": "code",
      "source": [
        "c = 0\n",
        "for i in range(0,15):\n",
        "  c += (salary[i]-salary_pred[i])**2\n",
        "\n",
        "MSE = (1/15)*c\n",
        "print(MSE)"
      ],
      "metadata": {
        "colab": {
          "base_uri": "https://localhost:8080/"
        },
        "id": "lCpoeXX0HGZY",
        "outputId": "8f88e8ab-f4a6-48ce-8926-17827d1b9513"
      },
      "execution_count": null,
      "outputs": [
        {
          "output_type": "stream",
          "name": "stdout",
          "text": [
            "0.12785817711928915\n"
          ]
        }
      ]
    }
  ]
}